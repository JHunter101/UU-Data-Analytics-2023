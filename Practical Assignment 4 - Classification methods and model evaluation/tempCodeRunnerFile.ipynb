class_1_df = db[db['class'] == "0"]
class_0_df = db[db['class'] == "1"]